{
  "cells": [
    {
      "cell_type": "markdown",
      "metadata": {
        "id": "eVJ6UhEAAwf2"
      },
      "source": [
        "# Imports"
      ]
    },
    {
      "cell_type": "code",
      "execution_count": 3,
      "metadata": {
        "id": "fWO5Fh2CArJD"
      },
      "outputs": [],
      "source": [
        "import pandas as pd\n",
        "import numpy as np\n",
        "import matplotlib.pyplot as plt\n",
        "import seaborn as sns\n",
        "import ast, json\n",
        "\n",
        "from sklearn.feature_extraction.text import CountVectorizer\n",
        "from sklearn.metrics.pairwise import cosine_similarity\n",
        "\n",
        "games_dir = \"steam_games.json\""
      ]
    },
    {
      "cell_type": "markdown",
      "metadata": {
        "id": "kLu7fq9tArJG"
      },
      "source": [
        "# Data Loading"
      ]
    },
    {
      "cell_type": "markdown",
      "metadata": {},
      "source": [
        "This notebook is an attempt at a first-foray into recommender system design. My goals of the project currently are to:\n",
        "- Conduct exploratory data analysis and visualization of the Steam game library and available user preference library\n",
        "- Implement content-based filtering through game recommendations and collaborative filtering through user recommendations\n",
        "- Deploy both recommender systems onto a cloud service, with an accompanying frontend interface. \n",
        "\n",
        "The dataset used is a collection of Steam games and users, taken from: https://cseweb.ucsd.edu/~jmcauley/datasets.html#steam_data. This data is comprehensive enough to recommend with both games and other users, and is relatively free of null values."
      ]
    },
    {
      "cell_type": "code",
      "execution_count": 2,
      "metadata": {
        "colab": {
          "base_uri": "https://localhost:8080/"
        },
        "id": "tBcSfDfgArJI",
        "outputId": "9efba131-fac5-46a7-fb43-e3aa01d6108d"
      },
      "outputs": [
        {
          "ename": "NameError",
          "evalue": "name 'games_dir' is not defined",
          "output_type": "error",
          "traceback": [
            "\u001b[1;31m---------------------------------------------------------------------------\u001b[0m",
            "\u001b[1;31mNameError\u001b[0m                                 Traceback (most recent call last)",
            "\u001b[1;32mc:\\Users\\Lance\\OneDrive\\Documents\\recommender\\steam_recommender.ipynb Cell 5\u001b[0m line \u001b[0;36m1\n\u001b[1;32m----> <a href='vscode-notebook-cell:/c%3A/Users/Lance/OneDrive/Documents/recommender/steam_recommender.ipynb#X25sZmlsZQ%3D%3D?line=0'>1</a>\u001b[0m \u001b[39mwith\u001b[39;00m \u001b[39mopen\u001b[39m(games_dir) \u001b[39mas\u001b[39;00m f:\n\u001b[0;32m      <a href='vscode-notebook-cell:/c%3A/Users/Lance/OneDrive/Documents/recommender/steam_recommender.ipynb#X25sZmlsZQ%3D%3D?line=1'>2</a>\u001b[0m     lines \u001b[39m=\u001b[39m f\u001b[39m.\u001b[39mreadlines()\n\u001b[0;32m      <a href='vscode-notebook-cell:/c%3A/Users/Lance/OneDrive/Documents/recommender/steam_recommender.ipynb#X25sZmlsZQ%3D%3D?line=2'>3</a>\u001b[0m \u001b[39m\"\u001b[39m\u001b[39mNumber of games: \u001b[39m\u001b[39m\"\u001b[39m \u001b[39m+\u001b[39m \u001b[39mlen\u001b[39m(lines)\n",
            "\u001b[1;31mNameError\u001b[0m: name 'games_dir' is not defined"
          ]
        }
      ],
      "source": [
        "with open(games_dir) as f:\n",
        "    lines = f.readlines()\n",
        "\"Number of games: \" + len(lines)"
      ]
    },
    {
      "cell_type": "code",
      "execution_count": 150,
      "metadata": {
        "colab": {
          "base_uri": "https://localhost:8080/"
        },
        "id": "VLt9afW_ArJJ",
        "outputId": "b93af674-df94-40f1-b295-d01a463c0050"
      },
      "outputs": [
        {
          "data": {
            "text/plain": [
              "{'publisher': 'Kotoshiro',\n",
              " 'genres': ['Action', 'Casual', 'Indie', 'Simulation', 'Strategy'],\n",
              " 'app_name': 'Lost Summoner Kitty',\n",
              " 'title': 'Lost Summoner Kitty',\n",
              " 'url': 'http://store.steampowered.com/app/761140/Lost_Summoner_Kitty/',\n",
              " 'release_date': '2018-01-04',\n",
              " 'tags': ['Strategy', 'Action', 'Indie', 'Casual', 'Simulation'],\n",
              " 'discount_price': 4.49,\n",
              " 'reviews_url': 'http://steamcommunity.com/app/761140/reviews/?browsefilter=mostrecent&p=1',\n",
              " 'specs': ['Single-player'],\n",
              " 'price': 4.99,\n",
              " 'early_access': False,\n",
              " 'id': '761140',\n",
              " 'developer': 'Kotoshiro'}"
            ]
          },
          "execution_count": 150,
          "metadata": {},
          "output_type": "execute_result"
        }
      ],
      "source": [
        "ast.literal_eval(lines[0])"
      ]
    },
    {
      "cell_type": "code",
      "execution_count": 151,
      "metadata": {
        "id": "M79deAjCArJK"
      },
      "outputs": [],
      "source": [
        "data = ast.literal_eval(\"[\" + ','.join(lines) + \"]\")\n",
        "\n",
        "with open('gamesdata.json', 'w') as json_file:\n",
        "    json.dump(data, json_file)"
      ]
    },
    {
      "cell_type": "code",
      "execution_count": 17,
      "metadata": {
        "colab": {
          "base_uri": "https://localhost:8080/",
          "height": 170
        },
        "id": "yGOWC318ArJK",
        "outputId": "817038ca-a4cb-4e59-dd5c-e721421d186b"
      },
      "outputs": [
        {
          "data": {
            "text/html": [
              "\n",
              "  <div id=\"df-b0792620-687b-4d82-9870-877f528a28ec\" class=\"colab-df-container\">\n",
              "    <div>\n",
              "<style scoped>\n",
              "    .dataframe tbody tr th:only-of-type {\n",
              "        vertical-align: middle;\n",
              "    }\n",
              "\n",
              "    .dataframe tbody tr th {\n",
              "        vertical-align: top;\n",
              "    }\n",
              "\n",
              "    .dataframe thead th {\n",
              "        text-align: right;\n",
              "    }\n",
              "</style>\n",
              "<table border=\"1\" class=\"dataframe\">\n",
              "  <thead>\n",
              "    <tr style=\"text-align: right;\">\n",
              "      <th></th>\n",
              "      <th>publisher</th>\n",
              "      <th>genres</th>\n",
              "      <th>app_name</th>\n",
              "      <th>title</th>\n",
              "      <th>url</th>\n",
              "      <th>release_date</th>\n",
              "      <th>tags</th>\n",
              "      <th>discount_price</th>\n",
              "      <th>reviews_url</th>\n",
              "      <th>specs</th>\n",
              "      <th>price</th>\n",
              "      <th>early_access</th>\n",
              "      <th>id</th>\n",
              "      <th>developer</th>\n",
              "      <th>sentiment</th>\n",
              "      <th>metascore</th>\n",
              "    </tr>\n",
              "  </thead>\n",
              "  <tbody>\n",
              "    <tr>\n",
              "      <th>0</th>\n",
              "      <td>Kotoshiro</td>\n",
              "      <td>[Action, Casual, Indie, Simulation, Strategy]</td>\n",
              "      <td>Lost Summoner Kitty</td>\n",
              "      <td>Lost Summoner Kitty</td>\n",
              "      <td>http://store.steampowered.com/app/761140/Lost_...</td>\n",
              "      <td>2018-01-04</td>\n",
              "      <td>[Strategy, Action, Indie, Casual, Simulation]</td>\n",
              "      <td>4.49</td>\n",
              "      <td>http://steamcommunity.com/app/761140/reviews/?...</td>\n",
              "      <td>[Single-player]</td>\n",
              "      <td>4.99</td>\n",
              "      <td>False</td>\n",
              "      <td>761140.0</td>\n",
              "      <td>Kotoshiro</td>\n",
              "      <td>NaN</td>\n",
              "      <td>NaN</td>\n",
              "    </tr>\n",
              "  </tbody>\n",
              "</table>\n",
              "</div>\n",
              "    <div class=\"colab-df-buttons\">\n",
              "\n",
              "  <div class=\"colab-df-container\">\n",
              "    <button class=\"colab-df-convert\" onclick=\"convertToInteractive('df-b0792620-687b-4d82-9870-877f528a28ec')\"\n",
              "            title=\"Convert this dataframe to an interactive table.\"\n",
              "            style=\"display:none;\">\n",
              "\n",
              "  <svg xmlns=\"http://www.w3.org/2000/svg\" height=\"24px\" viewBox=\"0 -960 960 960\">\n",
              "    <path d=\"M120-120v-720h720v720H120Zm60-500h600v-160H180v160Zm220 220h160v-160H400v160Zm0 220h160v-160H400v160ZM180-400h160v-160H180v160Zm440 0h160v-160H620v160ZM180-180h160v-160H180v160Zm440 0h160v-160H620v160Z\"/>\n",
              "  </svg>\n",
              "    </button>\n",
              "\n",
              "  <style>\n",
              "    .colab-df-container {\n",
              "      display:flex;\n",
              "      gap: 12px;\n",
              "    }\n",
              "\n",
              "    .colab-df-convert {\n",
              "      background-color: #E8F0FE;\n",
              "      border: none;\n",
              "      border-radius: 50%;\n",
              "      cursor: pointer;\n",
              "      display: none;\n",
              "      fill: #1967D2;\n",
              "      height: 32px;\n",
              "      padding: 0 0 0 0;\n",
              "      width: 32px;\n",
              "    }\n",
              "\n",
              "    .colab-df-convert:hover {\n",
              "      background-color: #E2EBFA;\n",
              "      box-shadow: 0px 1px 2px rgba(60, 64, 67, 0.3), 0px 1px 3px 1px rgba(60, 64, 67, 0.15);\n",
              "      fill: #174EA6;\n",
              "    }\n",
              "\n",
              "    .colab-df-buttons div {\n",
              "      margin-bottom: 4px;\n",
              "    }\n",
              "\n",
              "    [theme=dark] .colab-df-convert {\n",
              "      background-color: #3B4455;\n",
              "      fill: #D2E3FC;\n",
              "    }\n",
              "\n",
              "    [theme=dark] .colab-df-convert:hover {\n",
              "      background-color: #434B5C;\n",
              "      box-shadow: 0px 1px 3px 1px rgba(0, 0, 0, 0.15);\n",
              "      filter: drop-shadow(0px 1px 2px rgba(0, 0, 0, 0.3));\n",
              "      fill: #FFFFFF;\n",
              "    }\n",
              "  </style>\n",
              "\n",
              "    <script>\n",
              "      const buttonEl =\n",
              "        document.querySelector('#df-b0792620-687b-4d82-9870-877f528a28ec button.colab-df-convert');\n",
              "      buttonEl.style.display =\n",
              "        google.colab.kernel.accessAllowed ? 'block' : 'none';\n",
              "\n",
              "      async function convertToInteractive(key) {\n",
              "        const element = document.querySelector('#df-b0792620-687b-4d82-9870-877f528a28ec');\n",
              "        const dataTable =\n",
              "          await google.colab.kernel.invokeFunction('convertToInteractive',\n",
              "                                                    [key], {});\n",
              "        if (!dataTable) return;\n",
              "\n",
              "        const docLinkHtml = 'Like what you see? Visit the ' +\n",
              "          '<a target=\"_blank\" href=https://colab.research.google.com/notebooks/data_table.ipynb>data table notebook</a>'\n",
              "          + ' to learn more about interactive tables.';\n",
              "        element.innerHTML = '';\n",
              "        dataTable['output_type'] = 'display_data';\n",
              "        await google.colab.output.renderOutput(dataTable, element);\n",
              "        const docLink = document.createElement('div');\n",
              "        docLink.innerHTML = docLinkHtml;\n",
              "        element.appendChild(docLink);\n",
              "      }\n",
              "    </script>\n",
              "  </div>\n",
              "\n",
              "\n",
              "    </div>\n",
              "  </div>\n"
            ],
            "text/plain": [
              "   publisher                                         genres  \\\n",
              "0  Kotoshiro  [Action, Casual, Indie, Simulation, Strategy]   \n",
              "\n",
              "              app_name                title  \\\n",
              "0  Lost Summoner Kitty  Lost Summoner Kitty   \n",
              "\n",
              "                                                 url release_date  \\\n",
              "0  http://store.steampowered.com/app/761140/Lost_...   2018-01-04   \n",
              "\n",
              "                                            tags  discount_price  \\\n",
              "0  [Strategy, Action, Indie, Casual, Simulation]            4.49   \n",
              "\n",
              "                                         reviews_url            specs price  \\\n",
              "0  http://steamcommunity.com/app/761140/reviews/?...  [Single-player]  4.99   \n",
              "\n",
              "   early_access        id  developer sentiment metascore  \n",
              "0         False  761140.0  Kotoshiro       NaN       NaN  "
            ]
          },
          "execution_count": 17,
          "metadata": {},
          "output_type": "execute_result"
        }
      ],
      "source": [
        "df = pd.read_json('gamesdata.json')\n",
        "df.head(1)"
      ]
    },
    {
      "cell_type": "code",
      "execution_count": 164,
      "metadata": {
        "colab": {
          "base_uri": "https://localhost:8080/"
        },
        "id": "undEoh5NArJK",
        "outputId": "35bfc578-2053-44d8-821e-5c525b103cd5"
      },
      "outputs": [
        {
          "data": {
            "text/plain": [
              "(32135, 16)"
            ]
          },
          "execution_count": 164,
          "metadata": {},
          "output_type": "execute_result"
        }
      ],
      "source": [
        "df.shape"
      ]
    },
    {
      "cell_type": "markdown",
      "metadata": {
        "id": "Ti2n4STGArJL"
      },
      "source": [
        "# Data Cleaning"
      ]
    },
    {
      "cell_type": "code",
      "execution_count": 18,
      "metadata": {
        "colab": {
          "base_uri": "https://localhost:8080/"
        },
        "id": "eEr5n1bOArJL",
        "outputId": "d91f9dfa-bc98-48c1-9710-39ab36f085d5"
      },
      "outputs": [
        {
          "name": "stdout",
          "output_type": "stream",
          "text": [
            "publisher          8052\n",
            "genres             3283\n",
            "app_name              2\n",
            "title              2050\n",
            "url                   0\n",
            "release_date       2067\n",
            "tags                163\n",
            "discount_price    31910\n",
            "reviews_url           2\n",
            "specs               670\n",
            "price              1377\n",
            "early_access          0\n",
            "id                    2\n",
            "developer          3299\n",
            "sentiment          7182\n",
            "metascore         29458\n",
            "dtype: int64\n"
          ]
        }
      ],
      "source": [
        "df.replace(\"NaN\", np.nan, inplace=True)\n",
        "nan_counts = df.isna().sum()\n",
        "print(nan_counts)"
      ]
    },
    {
      "cell_type": "code",
      "execution_count": 19,
      "metadata": {
        "colab": {
          "base_uri": "https://localhost:8080/"
        },
        "id": "_gMZL_6bArJM",
        "outputId": "2060a9c5-4a17-4fe8-f9f1-f0ddc71b9e0e"
      },
      "outputs": [
        {
          "data": {
            "text/plain": [
              "(19480, 11)"
            ]
          },
          "execution_count": 19,
          "metadata": {},
          "output_type": "execute_result"
        }
      ],
      "source": [
        "# mostly NaN columns\n",
        "df.drop(\"metascore\", axis=1, inplace=True)\n",
        "df.drop(\"discount_price\", axis=1, inplace=True)\n",
        "\n",
        "#irrelvant columns\n",
        "df.drop(\"url\", axis=1, inplace=True)\n",
        "df.drop(\"reviews_url\", axis=1, inplace=True)\n",
        "df.drop(\"release_date\", axis=1, inplace=True)\n",
        "\n",
        "df = df.dropna()\n",
        "df.shape"
      ]
    },
    {
      "cell_type": "code",
      "execution_count": 20,
      "metadata": {
        "colab": {
          "base_uri": "https://localhost:8080/",
          "height": 98
        },
        "id": "dP9ZZajFArJM",
        "outputId": "d719abb9-d519-4d5a-f302-df3527922dde"
      },
      "outputs": [
        {
          "data": {
            "text/html": [
              "\n",
              "  <div id=\"df-11d2ddf8-639e-43aa-b518-28b3aa0e19d7\" class=\"colab-df-container\">\n",
              "    <div>\n",
              "<style scoped>\n",
              "    .dataframe tbody tr th:only-of-type {\n",
              "        vertical-align: middle;\n",
              "    }\n",
              "\n",
              "    .dataframe tbody tr th {\n",
              "        vertical-align: top;\n",
              "    }\n",
              "\n",
              "    .dataframe thead th {\n",
              "        text-align: right;\n",
              "    }\n",
              "</style>\n",
              "<table border=\"1\" class=\"dataframe\">\n",
              "  <thead>\n",
              "    <tr style=\"text-align: right;\">\n",
              "      <th></th>\n",
              "      <th>genres</th>\n",
              "      <th>tags</th>\n",
              "      <th>specs</th>\n",
              "      <th>sentiment</th>\n",
              "    </tr>\n",
              "  </thead>\n",
              "  <tbody>\n",
              "    <tr>\n",
              "      <th>1</th>\n",
              "      <td>FreetoPlay Indie RPG Strategy</td>\n",
              "      <td>FreetoPlay Strategy Indie RPG CardGame Trading...</td>\n",
              "      <td>Single-player Multi-player OnlineMulti-Player ...</td>\n",
              "      <td>MostlyPositive</td>\n",
              "    </tr>\n",
              "  </tbody>\n",
              "</table>\n",
              "</div>\n",
              "    <div class=\"colab-df-buttons\">\n",
              "\n",
              "  <div class=\"colab-df-container\">\n",
              "    <button class=\"colab-df-convert\" onclick=\"convertToInteractive('df-11d2ddf8-639e-43aa-b518-28b3aa0e19d7')\"\n",
              "            title=\"Convert this dataframe to an interactive table.\"\n",
              "            style=\"display:none;\">\n",
              "\n",
              "  <svg xmlns=\"http://www.w3.org/2000/svg\" height=\"24px\" viewBox=\"0 -960 960 960\">\n",
              "    <path d=\"M120-120v-720h720v720H120Zm60-500h600v-160H180v160Zm220 220h160v-160H400v160Zm0 220h160v-160H400v160ZM180-400h160v-160H180v160Zm440 0h160v-160H620v160ZM180-180h160v-160H180v160Zm440 0h160v-160H620v160Z\"/>\n",
              "  </svg>\n",
              "    </button>\n",
              "\n",
              "  <style>\n",
              "    .colab-df-container {\n",
              "      display:flex;\n",
              "      gap: 12px;\n",
              "    }\n",
              "\n",
              "    .colab-df-convert {\n",
              "      background-color: #E8F0FE;\n",
              "      border: none;\n",
              "      border-radius: 50%;\n",
              "      cursor: pointer;\n",
              "      display: none;\n",
              "      fill: #1967D2;\n",
              "      height: 32px;\n",
              "      padding: 0 0 0 0;\n",
              "      width: 32px;\n",
              "    }\n",
              "\n",
              "    .colab-df-convert:hover {\n",
              "      background-color: #E2EBFA;\n",
              "      box-shadow: 0px 1px 2px rgba(60, 64, 67, 0.3), 0px 1px 3px 1px rgba(60, 64, 67, 0.15);\n",
              "      fill: #174EA6;\n",
              "    }\n",
              "\n",
              "    .colab-df-buttons div {\n",
              "      margin-bottom: 4px;\n",
              "    }\n",
              "\n",
              "    [theme=dark] .colab-df-convert {\n",
              "      background-color: #3B4455;\n",
              "      fill: #D2E3FC;\n",
              "    }\n",
              "\n",
              "    [theme=dark] .colab-df-convert:hover {\n",
              "      background-color: #434B5C;\n",
              "      box-shadow: 0px 1px 3px 1px rgba(0, 0, 0, 0.15);\n",
              "      filter: drop-shadow(0px 1px 2px rgba(0, 0, 0, 0.3));\n",
              "      fill: #FFFFFF;\n",
              "    }\n",
              "  </style>\n",
              "\n",
              "    <script>\n",
              "      const buttonEl =\n",
              "        document.querySelector('#df-11d2ddf8-639e-43aa-b518-28b3aa0e19d7 button.colab-df-convert');\n",
              "      buttonEl.style.display =\n",
              "        google.colab.kernel.accessAllowed ? 'block' : 'none';\n",
              "\n",
              "      async function convertToInteractive(key) {\n",
              "        const element = document.querySelector('#df-11d2ddf8-639e-43aa-b518-28b3aa0e19d7');\n",
              "        const dataTable =\n",
              "          await google.colab.kernel.invokeFunction('convertToInteractive',\n",
              "                                                    [key], {});\n",
              "        if (!dataTable) return;\n",
              "\n",
              "        const docLinkHtml = 'Like what you see? Visit the ' +\n",
              "          '<a target=\"_blank\" href=https://colab.research.google.com/notebooks/data_table.ipynb>data table notebook</a>'\n",
              "          + ' to learn more about interactive tables.';\n",
              "        element.innerHTML = '';\n",
              "        dataTable['output_type'] = 'display_data';\n",
              "        await google.colab.output.renderOutput(dataTable, element);\n",
              "        const docLink = document.createElement('div');\n",
              "        docLink.innerHTML = docLinkHtml;\n",
              "        element.appendChild(docLink);\n",
              "      }\n",
              "    </script>\n",
              "  </div>\n",
              "\n",
              "\n",
              "    </div>\n",
              "  </div>\n"
            ],
            "text/plain": [
              "                          genres  \\\n",
              "1  FreetoPlay Indie RPG Strategy   \n",
              "\n",
              "                                                tags  \\\n",
              "1  FreetoPlay Strategy Indie RPG CardGame Trading...   \n",
              "\n",
              "                                               specs       sentiment  \n",
              "1  Single-player Multi-player OnlineMulti-Player ...  MostlyPositive  "
            ]
          },
          "execution_count": 20,
          "metadata": {},
          "output_type": "execute_result"
        }
      ],
      "source": [
        "list_features = ['genres', 'tags', 'specs']\n",
        "\n",
        "for feature in list_features:\n",
        "    # lower string and remove spaces within elements\n",
        "    df[feature] = df[feature].apply(lambda x: [i.replace(\" \", \"\") for i in x] if isinstance(x, list) else x)\n",
        "\n",
        "    # create \"soup\" by turning lists into strings with spaces between elements, no other syntax\n",
        "    df[feature] = df[feature].astype(str).apply(lambda x: ' '.join(ast.literal_eval(x)))\n",
        "\n",
        "df['developer'] = df['developer'].apply(lambda x: x.replace(\" \", \"\"))\n",
        "df['publisher'] = df['publisher'].apply(lambda x: x.replace(\" \", \"\"))\n",
        "df['sentiment'] = df['sentiment'].apply(lambda x: \"\" if \"user reviews\" in x else x.replace(\" \", \"\"))\n",
        "\n",
        "df[['genres', 'tags', 'specs', 'sentiment']].head(1)"
      ]
    },
    {
      "cell_type": "markdown",
      "metadata": {
        "id": "q10odxxZArJM"
      },
      "source": [
        "# Content-Based Filtering"
      ]
    },
    {
      "cell_type": "code",
      "execution_count": 22,
      "metadata": {
        "colab": {
          "base_uri": "https://localhost:8080/"
        },
        "id": "YOXTdzYkArJM",
        "outputId": "4994b2dc-061e-4e29-c9f6-44de141a3b42"
      },
      "outputs": [
        {
          "data": {
            "text/plain": [
              "1     MakingFun,Inc. SecretLevelSRL FreetoPlay Indie...\n",
              "2     Poolians.com Poolians.com Casual FreetoPlay In...\n",
              "5     TrickjumpGamesLtd TrickjumpGamesLtd Action Adv...\n",
              "15    Apillo Apillo Adventure Casual Indie Simulatio...\n",
              "21    TeroLunkka TeroLunkka Action Adventure Indie A...\n",
              "27    StainlessGamesLtd StainlessGamesLtd Action Ind...\n",
              "28    Valve Valve Action FPS Classic Action Sci-fi S...\n",
              "33    ETGgames ETGgames Casual Indie Simulation Casu...\n",
              "38    CisamidInc. lalalaZero,Urbanoff Adventure Casu...\n",
              "39    StrategyFirst StrategyFirst Strategy Turn-Base...\n",
              "40    StrategyFirst StrategyFirst Strategy Strategy ...\n",
              "41    BlazingGriffinLtd. OuterlightLtd. Action Indie...\n",
              "48    TPM.COSOFTWORKS TPM.COSOFTWORKS Action Adventu...\n",
              "49    WonderboxGames WonderboxGames Casual Strategy ...\n",
              "50    WonderboxGames WonderboxGames Action Indie Ind...\n",
              "52    MadUnicornGames MadUnicornGames Action Adventu...\n",
              "55    Majesco GlyphXGames Action Action Sci-fi Story...\n",
              "56    IntroversionSoftware IntroversionSoftware Indi...\n",
              "57    BlazingGriffinLtd. OuterlightLtd. Action Indie...\n",
              "58    Valve FacepunchStudios Indie Simulation Sandbo...\n",
              "59    SimBin SimBin Racing Racing Simulation Racing ...\n",
              "60    UnknownWorldsEntertainment UnknownWorldsEntert...\n",
              "61    CINEMAX,s.r.o. CINEMAX,s.r.o. Casual Indie Cas...\n",
              "62    StrategyFirst SickPuppies Strategy Strategy Co...\n",
              "63    StrategyFirst Deepred Strategy Strategy Simula...\n",
              "Name: soup, dtype: object"
            ]
          },
          "execution_count": 22,
          "metadata": {},
          "output_type": "execute_result"
        }
      ],
      "source": [
        "def soup(x):\n",
        "    return ''.join(x['publisher']) + ' ' + ''.join(x['developer']) + ' ' +''.join(x['genres']) + ' ' + ''.join(x['tags']) + ' ' + ''.join(x['genres']) + ' ' + ''.join(x['sentiment'])\n",
        "\n",
        "df['soup'] = df.apply(soup, axis=1)\n",
        "df['soup'].head(25)"
      ]
    },
    {
      "cell_type": "code",
      "execution_count": 23,
      "metadata": {
        "colab": {
          "base_uri": "https://localhost:8080/"
        },
        "id": "4_Q7gp3_ArJN",
        "outputId": "9e90010e-a3fa-4027-c3ae-c84efcd547a6"
      },
      "outputs": [
        {
          "data": {
            "text/plain": [
              "(19480, 11672)"
            ]
          },
          "execution_count": 23,
          "metadata": {},
          "output_type": "execute_result"
        }
      ],
      "source": [
        "count = CountVectorizer(stop_words='english')\n",
        "count_matrix = count.fit_transform(df['soup'])\n",
        "count_matrix.shape"
      ]
    },
    {
      "cell_type": "code",
      "execution_count": 24,
      "metadata": {
        "id": "h60SBKe6ArJN"
      },
      "outputs": [],
      "source": [
        "cosine_sim = cosine_similarity(count_matrix, count_matrix)"
      ]
    },
    {
      "cell_type": "code",
      "execution_count": 37,
      "metadata": {
        "colab": {
          "base_uri": "https://localhost:8080/",
          "height": 363
        },
        "id": "Hvuy5nFyArJN",
        "outputId": "23fdf01a-5ec2-43b1-bfc8-9e568bb10198"
      },
      "outputs": [
        {
          "data": {
            "text/html": [
              "\n",
              "  <div id=\"df-e68837a9-caa8-47a5-bd81-40c763f66cdb\" class=\"colab-df-container\">\n",
              "    <div>\n",
              "<style scoped>\n",
              "    .dataframe tbody tr th:only-of-type {\n",
              "        vertical-align: middle;\n",
              "    }\n",
              "\n",
              "    .dataframe tbody tr th {\n",
              "        vertical-align: top;\n",
              "    }\n",
              "\n",
              "    .dataframe thead th {\n",
              "        text-align: right;\n",
              "    }\n",
              "</style>\n",
              "<table border=\"1\" class=\"dataframe\">\n",
              "  <thead>\n",
              "    <tr style=\"text-align: right;\">\n",
              "      <th></th>\n",
              "      <th>title</th>\n",
              "      <th>soup</th>\n",
              "    </tr>\n",
              "  </thead>\n",
              "  <tbody>\n",
              "    <tr>\n",
              "      <th>127</th>\n",
              "      <td>Tom Clancy's Rainbow Six® 3 Gold</td>\n",
              "      <td>Ubisoft RedStormEntertainment,UbisoftMontreal ...</td>\n",
              "    </tr>\n",
              "    <tr>\n",
              "      <th>84</th>\n",
              "      <td>Tom Clancy's Rainbow Six® Vegas</td>\n",
              "      <td>Ubisoft UbisoftMontreal Action Action FPS Tact...</td>\n",
              "    </tr>\n",
              "    <tr>\n",
              "      <th>19064</th>\n",
              "      <td>Operation Flashpoint: Dragon Rising</td>\n",
              "      <td>Codemasters CodemastersStudios Action Action F...</td>\n",
              "    </tr>\n",
              "    <tr>\n",
              "      <th>19266</th>\n",
              "      <td>Tom Clancy's Rainbow Six® Vegas 2</td>\n",
              "      <td>Ubisoft UbisoftMontreal Action Action Tactical...</td>\n",
              "    </tr>\n",
              "    <tr>\n",
              "      <th>18743</th>\n",
              "      <td>Operation Flashpoint: Red River</td>\n",
              "      <td>Codemasters CodemastersActionStudio Action Str...</td>\n",
              "    </tr>\n",
              "    <tr>\n",
              "      <th>18043</th>\n",
              "      <td>Sniper: Ghost Warrior 2</td>\n",
              "      <td>CIGames CityInteractive Action Sniper Action F...</td>\n",
              "    </tr>\n",
              "    <tr>\n",
              "      <th>135</th>\n",
              "      <td>Brothers in Arms: Earned in Blood™</td>\n",
              "      <td>Ubisoft GearboxSoftware Action Action FPS Worl...</td>\n",
              "    </tr>\n",
              "    <tr>\n",
              "      <th>19245</th>\n",
              "      <td>INSURGENCY: Modern Infantry Combat</td>\n",
              "      <td>NewWorldInteractive InsurgencyDevelopmentTeam ...</td>\n",
              "    </tr>\n",
              "    <tr>\n",
              "      <th>19257</th>\n",
              "      <td>Tom Clancy's Ghost Recon® Desert Siege™</td>\n",
              "      <td>Ubisoft RedStormEntertainment Action Action FP...</td>\n",
              "    </tr>\n",
              "    <tr>\n",
              "      <th>19275</th>\n",
              "      <td>Tom Clancy's Rainbow Six Lockdown™</td>\n",
              "      <td>Ubisoft RedStormEntertainment Action Action FP...</td>\n",
              "    </tr>\n",
              "  </tbody>\n",
              "</table>\n",
              "</div>\n",
              "    <div class=\"colab-df-buttons\">\n",
              "\n",
              "  <div class=\"colab-df-container\">\n",
              "    <button class=\"colab-df-convert\" onclick=\"convertToInteractive('df-e68837a9-caa8-47a5-bd81-40c763f66cdb')\"\n",
              "            title=\"Convert this dataframe to an interactive table.\"\n",
              "            style=\"display:none;\">\n",
              "\n",
              "  <svg xmlns=\"http://www.w3.org/2000/svg\" height=\"24px\" viewBox=\"0 -960 960 960\">\n",
              "    <path d=\"M120-120v-720h720v720H120Zm60-500h600v-160H180v160Zm220 220h160v-160H400v160Zm0 220h160v-160H400v160ZM180-400h160v-160H180v160Zm440 0h160v-160H620v160ZM180-180h160v-160H180v160Zm440 0h160v-160H620v160Z\"/>\n",
              "  </svg>\n",
              "    </button>\n",
              "\n",
              "  <style>\n",
              "    .colab-df-container {\n",
              "      display:flex;\n",
              "      gap: 12px;\n",
              "    }\n",
              "\n",
              "    .colab-df-convert {\n",
              "      background-color: #E8F0FE;\n",
              "      border: none;\n",
              "      border-radius: 50%;\n",
              "      cursor: pointer;\n",
              "      display: none;\n",
              "      fill: #1967D2;\n",
              "      height: 32px;\n",
              "      padding: 0 0 0 0;\n",
              "      width: 32px;\n",
              "    }\n",
              "\n",
              "    .colab-df-convert:hover {\n",
              "      background-color: #E2EBFA;\n",
              "      box-shadow: 0px 1px 2px rgba(60, 64, 67, 0.3), 0px 1px 3px 1px rgba(60, 64, 67, 0.15);\n",
              "      fill: #174EA6;\n",
              "    }\n",
              "\n",
              "    .colab-df-buttons div {\n",
              "      margin-bottom: 4px;\n",
              "    }\n",
              "\n",
              "    [theme=dark] .colab-df-convert {\n",
              "      background-color: #3B4455;\n",
              "      fill: #D2E3FC;\n",
              "    }\n",
              "\n",
              "    [theme=dark] .colab-df-convert:hover {\n",
              "      background-color: #434B5C;\n",
              "      box-shadow: 0px 1px 3px 1px rgba(0, 0, 0, 0.15);\n",
              "      filter: drop-shadow(0px 1px 2px rgba(0, 0, 0, 0.3));\n",
              "      fill: #FFFFFF;\n",
              "    }\n",
              "  </style>\n",
              "\n",
              "    <script>\n",
              "      const buttonEl =\n",
              "        document.querySelector('#df-e68837a9-caa8-47a5-bd81-40c763f66cdb button.colab-df-convert');\n",
              "      buttonEl.style.display =\n",
              "        google.colab.kernel.accessAllowed ? 'block' : 'none';\n",
              "\n",
              "      async function convertToInteractive(key) {\n",
              "        const element = document.querySelector('#df-e68837a9-caa8-47a5-bd81-40c763f66cdb');\n",
              "        const dataTable =\n",
              "          await google.colab.kernel.invokeFunction('convertToInteractive',\n",
              "                                                    [key], {});\n",
              "        if (!dataTable) return;\n",
              "\n",
              "        const docLinkHtml = 'Like what you see? Visit the ' +\n",
              "          '<a target=\"_blank\" href=https://colab.research.google.com/notebooks/data_table.ipynb>data table notebook</a>'\n",
              "          + ' to learn more about interactive tables.';\n",
              "        element.innerHTML = '';\n",
              "        dataTable['output_type'] = 'display_data';\n",
              "        await google.colab.output.renderOutput(dataTable, element);\n",
              "        const docLink = document.createElement('div');\n",
              "        docLink.innerHTML = docLinkHtml;\n",
              "        element.appendChild(docLink);\n",
              "      }\n",
              "    </script>\n",
              "  </div>\n",
              "\n",
              "\n",
              "<div id=\"df-742cbad1-2154-4836-a29c-8eae7d35c543\">\n",
              "  <button class=\"colab-df-quickchart\" onclick=\"quickchart('df-742cbad1-2154-4836-a29c-8eae7d35c543')\"\n",
              "            title=\"Suggest charts\"\n",
              "            style=\"display:none;\">\n",
              "\n",
              "<svg xmlns=\"http://www.w3.org/2000/svg\" height=\"24px\"viewBox=\"0 0 24 24\"\n",
              "     width=\"24px\">\n",
              "    <g>\n",
              "        <path d=\"M19 3H5c-1.1 0-2 .9-2 2v14c0 1.1.9 2 2 2h14c1.1 0 2-.9 2-2V5c0-1.1-.9-2-2-2zM9 17H7v-7h2v7zm4 0h-2V7h2v10zm4 0h-2v-4h2v4z\"/>\n",
              "    </g>\n",
              "</svg>\n",
              "  </button>\n",
              "\n",
              "<style>\n",
              "  .colab-df-quickchart {\n",
              "      --bg-color: #E8F0FE;\n",
              "      --fill-color: #1967D2;\n",
              "      --hover-bg-color: #E2EBFA;\n",
              "      --hover-fill-color: #174EA6;\n",
              "      --disabled-fill-color: #AAA;\n",
              "      --disabled-bg-color: #DDD;\n",
              "  }\n",
              "\n",
              "  [theme=dark] .colab-df-quickchart {\n",
              "      --bg-color: #3B4455;\n",
              "      --fill-color: #D2E3FC;\n",
              "      --hover-bg-color: #434B5C;\n",
              "      --hover-fill-color: #FFFFFF;\n",
              "      --disabled-bg-color: #3B4455;\n",
              "      --disabled-fill-color: #666;\n",
              "  }\n",
              "\n",
              "  .colab-df-quickchart {\n",
              "    background-color: var(--bg-color);\n",
              "    border: none;\n",
              "    border-radius: 50%;\n",
              "    cursor: pointer;\n",
              "    display: none;\n",
              "    fill: var(--fill-color);\n",
              "    height: 32px;\n",
              "    padding: 0;\n",
              "    width: 32px;\n",
              "  }\n",
              "\n",
              "  .colab-df-quickchart:hover {\n",
              "    background-color: var(--hover-bg-color);\n",
              "    box-shadow: 0 1px 2px rgba(60, 64, 67, 0.3), 0 1px 3px 1px rgba(60, 64, 67, 0.15);\n",
              "    fill: var(--button-hover-fill-color);\n",
              "  }\n",
              "\n",
              "  .colab-df-quickchart-complete:disabled,\n",
              "  .colab-df-quickchart-complete:disabled:hover {\n",
              "    background-color: var(--disabled-bg-color);\n",
              "    fill: var(--disabled-fill-color);\n",
              "    box-shadow: none;\n",
              "  }\n",
              "\n",
              "  .colab-df-spinner {\n",
              "    border: 2px solid var(--fill-color);\n",
              "    border-color: transparent;\n",
              "    border-bottom-color: var(--fill-color);\n",
              "    animation:\n",
              "      spin 1s steps(1) infinite;\n",
              "  }\n",
              "\n",
              "  @keyframes spin {\n",
              "    0% {\n",
              "      border-color: transparent;\n",
              "      border-bottom-color: var(--fill-color);\n",
              "      border-left-color: var(--fill-color);\n",
              "    }\n",
              "    20% {\n",
              "      border-color: transparent;\n",
              "      border-left-color: var(--fill-color);\n",
              "      border-top-color: var(--fill-color);\n",
              "    }\n",
              "    30% {\n",
              "      border-color: transparent;\n",
              "      border-left-color: var(--fill-color);\n",
              "      border-top-color: var(--fill-color);\n",
              "      border-right-color: var(--fill-color);\n",
              "    }\n",
              "    40% {\n",
              "      border-color: transparent;\n",
              "      border-right-color: var(--fill-color);\n",
              "      border-top-color: var(--fill-color);\n",
              "    }\n",
              "    60% {\n",
              "      border-color: transparent;\n",
              "      border-right-color: var(--fill-color);\n",
              "    }\n",
              "    80% {\n",
              "      border-color: transparent;\n",
              "      border-right-color: var(--fill-color);\n",
              "      border-bottom-color: var(--fill-color);\n",
              "    }\n",
              "    90% {\n",
              "      border-color: transparent;\n",
              "      border-bottom-color: var(--fill-color);\n",
              "    }\n",
              "  }\n",
              "</style>\n",
              "\n",
              "  <script>\n",
              "    async function quickchart(key) {\n",
              "      const quickchartButtonEl =\n",
              "        document.querySelector('#' + key + ' button');\n",
              "      quickchartButtonEl.disabled = true;  // To prevent multiple clicks.\n",
              "      quickchartButtonEl.classList.add('colab-df-spinner');\n",
              "      try {\n",
              "        const charts = await google.colab.kernel.invokeFunction(\n",
              "            'suggestCharts', [key], {});\n",
              "      } catch (error) {\n",
              "        console.error('Error during call to suggestCharts:', error);\n",
              "      }\n",
              "      quickchartButtonEl.classList.remove('colab-df-spinner');\n",
              "      quickchartButtonEl.classList.add('colab-df-quickchart-complete');\n",
              "    }\n",
              "    (() => {\n",
              "      let quickchartButtonEl =\n",
              "        document.querySelector('#df-742cbad1-2154-4836-a29c-8eae7d35c543 button');\n",
              "      quickchartButtonEl.style.display =\n",
              "        google.colab.kernel.accessAllowed ? 'block' : 'none';\n",
              "    })();\n",
              "  </script>\n",
              "</div>\n",
              "\n",
              "    </div>\n",
              "  </div>\n"
            ],
            "text/plain": [
              "                                         title  \\\n",
              "127           Tom Clancy's Rainbow Six® 3 Gold   \n",
              "84             Tom Clancy's Rainbow Six® Vegas   \n",
              "19064      Operation Flashpoint: Dragon Rising   \n",
              "19266        Tom Clancy's Rainbow Six® Vegas 2   \n",
              "18743          Operation Flashpoint: Red River   \n",
              "18043                  Sniper: Ghost Warrior 2   \n",
              "135         Brothers in Arms: Earned in Blood™   \n",
              "19245       INSURGENCY: Modern Infantry Combat   \n",
              "19257  Tom Clancy's Ghost Recon® Desert Siege™   \n",
              "19275       Tom Clancy's Rainbow Six Lockdown™   \n",
              "\n",
              "                                                    soup  \n",
              "127    Ubisoft RedStormEntertainment,UbisoftMontreal ...  \n",
              "84     Ubisoft UbisoftMontreal Action Action FPS Tact...  \n",
              "19064  Codemasters CodemastersStudios Action Action F...  \n",
              "19266  Ubisoft UbisoftMontreal Action Action Tactical...  \n",
              "18743  Codemasters CodemastersActionStudio Action Str...  \n",
              "18043  CIGames CityInteractive Action Sniper Action F...  \n",
              "135    Ubisoft GearboxSoftware Action Action FPS Worl...  \n",
              "19245  NewWorldInteractive InsurgencyDevelopmentTeam ...  \n",
              "19257  Ubisoft RedStormEntertainment Action Action FP...  \n",
              "19275  Ubisoft RedStormEntertainment Action Action FP...  "
            ]
          },
          "execution_count": 37,
          "metadata": {},
          "output_type": "execute_result"
        }
      ],
      "source": [
        "def get_recommendations(title, df, cosine_sim):\n",
        "    df = df.reset_index()\n",
        "    indices = pd.Series(df.index, index=df['title'])\n",
        "\n",
        "    # get index of the games that matches the title\n",
        "    idx = indices[title]\n",
        "\n",
        "    # get sorted pairwise similarity scores of all games with that game\n",
        "    sim_scores = list(enumerate(cosine_sim[idx]))\n",
        "    sim_scores = sorted(sim_scores, key=lambda x: x[1], reverse=True)\n",
        "\n",
        "    # get the scores of the 50 most similar games\n",
        "    sim_scores = sim_scores[1:11]\n",
        "\n",
        "    # get the movie indices\n",
        "    movie_indices = [i[0] for i in sim_scores]\n",
        "\n",
        "    # return the top 10 most similar games\n",
        "    return df[['title', 'soup']].iloc[movie_indices]\n",
        "\n",
        "get_recommendations(\"Tom Clancy's Ghost Recon®\", df, cosine_sim)"
      ]
    }
  ],
  "metadata": {
    "colab": {
      "collapsed_sections": [
        "eVJ6UhEAAwf2",
        "kLu7fq9tArJG",
        "Ti2n4STGArJL",
        "q10odxxZArJM"
      ],
      "provenance": [],
      "toc_visible": true
    },
    "kernelspec": {
      "display_name": "Python 3",
      "language": "python",
      "name": "python3"
    },
    "language_info": {
      "codemirror_mode": {
        "name": "ipython",
        "version": 3
      },
      "file_extension": ".py",
      "mimetype": "text/x-python",
      "name": "python",
      "nbconvert_exporter": "python",
      "pygments_lexer": "ipython3",
      "version": "3.10.11"
    },
    "orig_nbformat": 4
  },
  "nbformat": 4,
  "nbformat_minor": 0
}
